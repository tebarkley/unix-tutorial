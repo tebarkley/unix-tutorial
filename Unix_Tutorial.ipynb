{
 "metadata": {
  "name": "",
  "signature": "sha256:a02a403ba2abadede85245b4c454bbc1dada0fb67df95961c6d258e8169de7f5"
 },
 "nbformat": 3,
 "nbformat_minor": 0,
 "worksheets": [
  {
   "cells": [
    {
     "cell_type": "heading",
     "level": 1,
     "metadata": {},
     "source": [
      "Introduction"
     ]
    },
    {
     "cell_type": "markdown",
     "metadata": {},
     "source": [
      "**Purpose**"
     ]
    },
    {
     "cell_type": "markdown",
     "metadata": {},
     "source": [
      "The purpose of this tutorial is to introduce you to UNIX commands that will help you mine data in this class and beyond."
     ]
    },
    {
     "cell_type": "markdown",
     "metadata": {},
     "source": [
      "**Yelp Data Set**"
     ]
    },
    {
     "cell_type": "markdown",
     "metadata": {},
     "source": [
      "In this tutorial and associated homework assignment, we will be working on a 2.3 million row Yelp review research data set, obtained from "
     ]
    },
    {
     "cell_type": "markdown",
     "metadata": {},
     "source": [
      "**Useful UNIX resources**"
     ]
    },
    {
     "cell_type": "markdown",
     "metadata": {},
     "source": [
      "This tutorial only covers the very basics, to get you familiar with useful commands for data mining. Here are some additional useful readings on the power of UNIX:\n",
      "* [I School Unix tutorial](http://people.ischool.berkeley.edu/~kevin/unix-tutorial/toc.html)\n",
      "* [Stanford Open Classroom Practical UNIX videos](http://openclassroom.stanford.edu/MainFolder/CoursePage.php?course=PracticalUnix)\n",
      "* [Learn Unix in 10 minutes](http://freeengineer.org/learnUNIXin10minutes.html#Navigating)\n",
      "* [Unix Cheat Sheet](http://www.rain.org/~mkummel/unix.html)"
     ]
    },
    {
     "cell_type": "heading",
     "level": 1,
     "metadata": {},
     "source": [
      "1. Getting Started"
     ]
    },
    {
     "cell_type": "heading",
     "level": 3,
     "metadata": {},
     "source": [
      "**Using UNIX on Different Operating Systems**"
     ]
    },
    {
     "cell_type": "markdown",
     "metadata": {},
     "source": [
      "**OS X: **"
     ]
    },
    {
     "cell_type": "markdown",
     "metadata": {},
     "source": [
      "**Windows: ** The Windows command prompt is not UNIX based. To run UNIX commands on your Windows machine, you need to install some special tools. The most common is cygwin. Here is a nice [Youtube video](https://www.youtube.com/watch?v=zRbbDkDb5UM) on how to install Cygwin on Windows. It would be good to do this at some point, but you don't need to for this assignment, because we will be working off of the I School's UNIX server.\n",
      "\n",
      "If you don't have Cygwin or Git Bash or any other UNIX client, you need to download [Putty](http://www.chiark.greenend.org.uk/~sgtatham/putty/download.html), which will allow you to ssh into a remote server."
     ]
    },
    {
     "cell_type": "markdown",
     "metadata": {},
     "source": [
      "**Linus/Other Unix Flavors: ** You already know how to do this."
     ]
    },
    {
     "cell_type": "markdown",
     "metadata": {},
     "source": [
      "For consistency, you can follow along with this tutorial on Harbinger, the I School server. Need to make sure everybody has a Harbinger account?"
     ]
    },
    {
     "cell_type": "markdown",
     "metadata": {},
     "source": [
      "Let's just have everyone work on Harbinger. Opening the terminal from different OSs- for Windows, can use Putty for the simplest option to connect to harbiner. Add special section for Windows people that if they want to use unix commands locally, to download cygwin. Point to tutorial for installing cygwin. "
     ]
    },
    {
     "cell_type": "heading",
     "level": 3,
     "metadata": {},
     "source": [
      "**Logging on to a Remote Machine**"
     ]
    },
    {
     "cell_type": "heading",
     "level": 2,
     "metadata": {},
     "source": [
      "Tutorial"
     ]
    },
    {
     "cell_type": "code",
     "collapsed": false,
     "input": [],
     "language": "python",
     "metadata": {},
     "outputs": []
    },
    {
     "cell_type": "heading",
     "level": 1,
     "metadata": {},
     "source": [
      "2. File Navigation"
     ]
    },
    {
     "cell_type": "markdown",
     "metadata": {},
     "source": [
      "**Commands to Know: **"
     ]
    },
    {
     "cell_type": "markdown",
     "metadata": {},
     "source": [
      "**Reference Readings: **"
     ]
    },
    {
     "cell_type": "heading",
     "level": 1,
     "metadata": {},
     "source": [
      "3. Permissions"
     ]
    },
    {
     "cell_type": "heading",
     "level": 1,
     "metadata": {},
     "source": [
      "4. Obtaining Data"
     ]
    },
    {
     "cell_type": "heading",
     "level": 1,
     "metadata": {},
     "source": [
      "5. Simple Filters"
     ]
    },
    {
     "cell_type": "heading",
     "level": 1,
     "metadata": {},
     "source": [
      "6. Filtering and Programming with Regular Expressions"
     ]
    },
    {
     "cell_type": "code",
     "collapsed": false,
     "input": [],
     "language": "python",
     "metadata": {},
     "outputs": []
    }
   ],
   "metadata": {}
  }
 ]
}